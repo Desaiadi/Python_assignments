{
 "cells": [
  {
   "cell_type": "markdown",
   "id": "271438d1-e443-48b7-aead-223a895e5918",
   "metadata": {
    "tags": []
   },
   "source": [
    "# WAP to accept two numbers from the user and display their sum"
   ]
  },
  {
   "cell_type": "code",
   "execution_count": 2,
   "id": "c866a4de-0a7f-4558-89a9-b00f5f9f62e3",
   "metadata": {},
   "outputs": [
    {
     "name": "stdin",
     "output_type": "stream",
     "text": [
      "Enter 1st number  15\n",
      "Enter 2nd number  35\n"
     ]
    },
    {
     "name": "stdout",
     "output_type": "stream",
     "text": [
      "50\n"
     ]
    }
   ],
   "source": [
    "num1 = int(input(\"Enter 1st number \"))\n",
    "num2 = int(input(\"Enter 2nd number \"))\n",
    "\n",
    "print(num1+num2)"
   ]
  },
  {
   "cell_type": "markdown",
   "id": "0959f70f-f40e-46bb-8db2-f16d21a6e3da",
   "metadata": {},
   "source": [
    "#\tWAP to accept radius of a Circle from the user and calculate area and circumference"
   ]
  },
  {
   "cell_type": "code",
   "execution_count": 3,
   "id": "ec018173-0004-4a38-b3e2-f2fa55479527",
   "metadata": {},
   "outputs": [
    {
     "name": "stdin",
     "output_type": "stream",
     "text": [
      "Enter the radius  5\n"
     ]
    },
    {
     "name": "stdout",
     "output_type": "stream",
     "text": [
      "The area is 78.5 and circumference is 31.400000000000002\n"
     ]
    }
   ],
   "source": [
    "rad=int(input(\"Enter the radius \"))\n",
    "area = rad*rad*3.14\n",
    "cir = 2*rad*3.14\n",
    "print(\"The area is {} and circumference is {}\".format(area,cir))\n"
   ]
  },
  {
   "cell_type": "markdown",
   "id": "b18b0426-39d2-4e74-8409-b384421e4799",
   "metadata": {},
   "source": [
    "# WAP to accept roll number , grade and percentage as input from the user and display it back"
   ]
  },
  {
   "cell_type": "code",
   "execution_count": 5,
   "id": "ac8d89f6-2b4f-457c-ab0e-737f95d34923",
   "metadata": {},
   "outputs": [
    {
     "name": "stdin",
     "output_type": "stream",
     "text": [
      " Enter your roll number  1908058\n",
      " Enter your grade number A\n",
      " Enter your percentage  95.20\n"
     ]
    },
    {
     "name": "stdout",
     "output_type": "stream",
     "text": [
      "Roll no is 1908058 and grade is A and percentage is 95.2\n"
     ]
    }
   ],
   "source": [
    "roll = int(input(\" Enter your roll number \"))\n",
    "grade = input(\" Enter your grade\")\n",
    "percentage = float(input(\" Enter your percentage \"))\n",
    "\n",
    "print(\"Roll no is {} and grade is {} and percentage is {}\".format(roll,grade,percentage))"
   ]
  },
  {
   "cell_type": "markdown",
   "id": "ef6fe07a-7561-481b-bce8-57c20b0ce1dc",
   "metadata": {},
   "source": [
    "# Write a program that asks the user to enter his/her name and age. Print out a message , displaying the user’s name along with the year in which they will turn 100 years old"
   ]
  },
  {
   "cell_type": "code",
   "execution_count": 6,
   "id": "565ae65f-213b-40fd-898f-abebc210f970",
   "metadata": {},
   "outputs": [
    {
     "name": "stdin",
     "output_type": "stream",
     "text": [
      "Eter name Aditya\n",
      "enter age 25\n"
     ]
    },
    {
     "name": "stdout",
     "output_type": "stream",
     "text": [
      " your name is Aditya and you will be 100 years old in 2098 \n"
     ]
    }
   ],
   "source": [
    "name = input(\"Eter name\")\n",
    "age = int(input(\"enter age\"))\n",
    "req = 2023 + (100-age)\n",
    "print(\" your name is {} and you will be 100 years old in {} \".format(name,req))"
   ]
  },
  {
   "cell_type": "markdown",
   "id": "a9b897ac-ff9d-47da-b8bf-ae929ec50868",
   "metadata": {},
   "source": [
    "# Write a program that asks the user to input 2 integers and adds them . Accept both the numbers in a single line only"
   ]
  },
  {
   "cell_type": "code",
   "execution_count": 14,
   "id": "2d9af15a-0572-4376-90d2-45396d8b4082",
   "metadata": {},
   "outputs": [
    {
     "name": "stdin",
     "output_type": "stream",
     "text": [
      "Enter 2 numbers 15 25\n"
     ]
    },
    {
     "name": "stdout",
     "output_type": "stream",
     "text": [
      "Sum is  40\n"
     ]
    }
   ],
   "source": [
    "in1,in2 = input(\"Enter 2 numbers\").split()\n",
    "sum = int(in1) + int(in2)\n",
    "print(\"Sum is \" , sum)"
   ]
  },
  {
   "cell_type": "markdown",
   "id": "198bfdbb-2fcd-4029-95ad-d78544e4bc67",
   "metadata": {},
   "source": [
    "#\tWrite a Python program which accepts the user's first and last name and print them in reverse order with a space between them."
   ]
  },
  {
   "cell_type": "code",
   "execution_count": 16,
   "id": "0ed803a0-eae4-4d2d-b17b-64c53551102e",
   "metadata": {},
   "outputs": [
    {
     "name": "stdin",
     "output_type": "stream",
     "text": [
      " enter first name and last name aditya desai\n"
     ]
    },
    {
     "name": "stdout",
     "output_type": "stream",
     "text": [
      " your reversed name is : iased aytida\n"
     ]
    }
   ],
   "source": [
    "fname,lname = input(\" enter first name and last name\").split()\n",
    "fullname = fname + \" \" + lname\n",
    "revfullname = fullname[::-1]\n",
    "print(\" your reversed name is : {}\".format(revfullname))"
   ]
  },
  {
   "cell_type": "markdown",
   "id": "f05405f5-5a30-4c12-8d77-77f23a913d58",
   "metadata": {},
   "source": [
    "# 15 dec 2022"
   ]
  },
  {
   "cell_type": "markdown",
   "id": "8e215362-a008-49b3-9ed0-081361967df8",
   "metadata": {},
   "source": [
    "# WAP to accept an integer from the user and check whether it is an even or odd "
   ]
  },
  {
   "cell_type": "code",
   "execution_count": 18,
   "id": "85a6d031-ad68-42e5-a4a5-67bf91fe282e",
   "metadata": {},
   "outputs": [
    {
     "name": "stdin",
     "output_type": "stream",
     "text": [
      "Enter the number 20\n"
     ]
    },
    {
     "name": "stdout",
     "output_type": "stream",
     "text": [
      "20 is even\n"
     ]
    }
   ],
   "source": [
    "unum1 =  int(input(\"Enter the number\"))\n",
    "if (unum1%2 == 0):\n",
    "    print(\"{} is even\".format(unum1))\n",
    "else:\n",
    "    print(\"{} is odd\".format(unum1))\n",
    "    "
   ]
  },
  {
   "cell_type": "markdown",
   "id": "01599bd3-70d7-4e5d-adef-56308279ec0b",
   "metadata": {},
   "source": [
    "# WAP to accept a character from the user and check whether it is a capital letter or small letter. Assume user will input only alphabets"
   ]
  },
  {
   "cell_type": "code",
   "execution_count": 23,
   "id": "c7a7ce0d-0a91-481a-a16f-ae8204b2f4d7",
   "metadata": {},
   "outputs": [
    {
     "name": "stdin",
     "output_type": "stream",
     "text": [
      "enter a charactor A\n"
     ]
    },
    {
     "name": "stdout",
     "output_type": "stream",
     "text": [
      " CAPITAL LETTER \n"
     ]
    }
   ],
   "source": [
    "char = input(\"enter a charactor\")\n",
    "if ('A' <= char <= 'Z'):\n",
    "    print(\" CAPITAL LETTER \")\n",
    "else ('a' <=char<= 'z'):\n",
    "    print(\"small letter\")\n"
   ]
  },
  {
   "cell_type": "markdown",
   "id": "74a0a55d-d77b-4824-a96e-2f88fd333f41",
   "metadata": {},
   "source": [
    "# ●\tWAP to accept a character from the user and check whether it is a capital letter or small letter or a digit or some special symbol"
   ]
  },
  {
   "cell_type": "code",
   "execution_count": 25,
   "id": "e97d16cb-54dd-43d8-bbab-87b8b75667a1",
   "metadata": {},
   "outputs": [
    {
     "name": "stdin",
     "output_type": "stream",
     "text": [
      "enter a charactor 5\n"
     ]
    },
    {
     "name": "stdout",
     "output_type": "stream",
     "text": [
      " NUMBER \n"
     ]
    }
   ],
   "source": [
    "char2 = input(\"enter a charactor\")\n",
    "if ('A' <= char2 <= 'Z'):\n",
    "    print(\" CAPITAL LETTER \")\n",
    "elif ('a' <=char2 <= 'z'):\n",
    "    print(\"small letter\")\n",
    "elif ('0' <=char2 <= '9'):\n",
    "    print(\" NUMBER \")\n",
    "else :\n",
    "    print(\" YOU ENTERED SYMBOL\")\n",
    "    "
   ]
  },
  {
   "cell_type": "markdown",
   "id": "ace759c3-c2a2-4c5a-8fb4-b933e0867595",
   "metadata": {},
   "source": [
    "#\tWAP to accept 3 integers from the user and without using any logical operator and cascading of relational operators , find out the greatest number amongst them"
   ]
  },
  {
   "cell_type": "code",
   "execution_count": 28,
   "id": "9a6d7eec-7999-4c31-919d-d84879250ea0",
   "metadata": {},
   "outputs": [
    {
     "name": "stdin",
     "output_type": "stream",
     "text": [
      "enter 3 numbers 15 25 35\n"
     ]
    },
    {
     "name": "stdout",
     "output_type": "stream",
     "text": [
      " 35 is greatest one \n"
     ]
    }
   ],
   "source": [
    "tnum1,tnum2,tnum3 = input(\"enter 3 numbers\").split()\n",
    "\n",
    "tnum1 = int(tnum1)\n",
    "tnum2 = int(tnum2)\n",
    "tnum3 = int(tnum3)\n",
    "\n",
    "if tnum1>tnum2:\n",
    "    if tnum1>tnum3:\n",
    "        print(\" {} is greatest one \".format(tnum1))\n",
    "    else :\n",
    "         print(\" {} is greatest one \".format(tnum3))\n",
    "else :\n",
    "    if tnum2>tnum3:\n",
    "        print(\" {} is greatest one \".format(tnum2))\n",
    "    else :\n",
    "         print(\" {} is greatest one \".format(tnum3))"
   ]
  },
  {
   "cell_type": "markdown",
   "id": "94bcd195-015e-4499-b192-cef3b306892e",
   "metadata": {},
   "source": [
    "#\tWAP to accept a year from the user and check whether it is a leap year or not."
   ]
  },
  {
   "cell_type": "code",
   "execution_count": 31,
   "id": "216844bb-4117-4ea3-99e8-720e5b4587b8",
   "metadata": {},
   "outputs": [
    {
     "name": "stdin",
     "output_type": "stream",
     "text": [
      "enter a year  2000\n"
     ]
    },
    {
     "name": "stdout",
     "output_type": "stream",
     "text": [
      "2000 is a leap year\n"
     ]
    }
   ],
   "source": [
    "year =  int(input(\"enter a year \"))\n",
    "if (year %4 == 0):\n",
    "    if (year %100 == 0):\n",
    "        if(year %400 == 0):\n",
    "            print(\"{} is a leap year\".format(year))\n",
    "        else:\n",
    "            print(\"{} is a not a leap year\".format(year))\n",
    "    else:\n",
    "        print(\"{} is a leap year\".format(year))\n",
    "else:\n",
    "    print(\"{} is a not a leap year\".format(year))"
   ]
  },
  {
   "cell_type": "code",
   "execution_count": 37,
   "id": "60ff612d-3956-441c-bf9b-d4a0b1b7c993",
   "metadata": {},
   "outputs": [
    {
     "name": "stdout",
     "output_type": "stream",
     "text": [
      "2\n"
     ]
    },
    {
     "name": "stdin",
     "output_type": "stream",
     "text": [
      "Guess the number from 1 to 100\n",
      "                    note: enter 0 or negative number to quit  55\n"
     ]
    },
    {
     "name": "stdout",
     "output_type": "stream",
     "text": [
      "Guessed Number too large\n"
     ]
    },
    {
     "name": "stdin",
     "output_type": "stream",
     "text": [
      "guess it again 1\n"
     ]
    },
    {
     "name": "stdout",
     "output_type": "stream",
     "text": [
      "Guessed Number too small\n"
     ]
    },
    {
     "name": "stdin",
     "output_type": "stream",
     "text": [
      "guess it again 2\n"
     ]
    },
    {
     "name": "stdout",
     "output_type": "stream",
     "text": [
      "Congratulations! You guessed it right\n"
     ]
    }
   ],
   "source": [
    "import random\n",
    "ran = random.randint(0,100)\n",
    "print(ran)\n",
    "user = int(input(\"\"\"Guess the number from 1 to 100\n",
    "                    note: enter 0 or negative number to quit \"\"\"))\n",
    "\n",
    "while 1:\n",
    "    if(user <= 0):\n",
    "        print(\"You quit the game \")\n",
    "        break\n",
    "    elif(user == ran):\n",
    "        print(\"Congratulations! You guessed it right\")\n",
    "        break\n",
    "    elif(user>ran):\n",
    "        print(\"Guessed Number too large\")\n",
    "        user = int(input(\"guess it again\"))\n",
    "    elif(user<ran):\n",
    "        print(\"Guessed Number too small\")\n",
    "        user = int(input(\"guess it again\"))\n",
    "    else:\n",
    "        printf(\"Only numbers are allowed\")\n",
    "        user = int(input(\"guess it again\"))\n",
    "        \n",
    "        \n",
    "        \n",
    "\n"
   ]
  },
  {
   "cell_type": "code",
   "execution_count": null,
   "id": "a71137ca-8fe8-407f-ba91-1799b3b66342",
   "metadata": {},
   "outputs": [],
   "source": []
  }
 ],
 "metadata": {
  "kernelspec": {
   "display_name": "Python 3 (ipykernel)",
   "language": "python",
   "name": "python3"
  },
  "language_info": {
   "codemirror_mode": {
    "name": "ipython",
    "version": 3
   },
   "file_extension": ".py",
   "mimetype": "text/x-python",
   "name": "python",
   "nbconvert_exporter": "python",
   "pygments_lexer": "ipython3",
   "version": "3.10.6"
  }
 },
 "nbformat": 4,
 "nbformat_minor": 5
}
