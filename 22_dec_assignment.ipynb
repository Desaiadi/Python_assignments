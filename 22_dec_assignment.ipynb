{
 "cells": [
  {
   "cell_type": "markdown",
   "id": "42cc3987-894b-46e5-b0d8-6c8420753117",
   "metadata": {},
   "source": [
    "#\tWrite a program to accept a string from the user and display it vertically but don’t display the vowels in it."
   ]
  },
  {
   "cell_type": "code",
   "execution_count": 4,
   "id": "43ed7c0c-e98e-430c-ab48-233e9e45e59b",
   "metadata": {},
   "outputs": [
    {
     "name": "stdin",
     "output_type": "stream",
     "text": [
      "Enter a string Aditya\n"
     ]
    },
    {
     "name": "stdout",
     "output_type": "stream",
     "text": [
      "d\n",
      "t\n",
      "y\n"
     ]
    }
   ],
   "source": [
    "string = input(\"Enter a string\")\n",
    "vov = ['a','e','i','o','u']\n",
    "for i in string:\n",
    "    if i.lower() not in vov:\n",
    "        print(i)"
   ]
  },
  {
   "cell_type": "markdown",
   "id": "ccf6df60-7514-4df2-9f2e-2d575c51f2a8",
   "metadata": {},
   "source": [
    "#\tWrite a program to continuously accept integers from the user until the user types 0 and as soon as 0 is entered display sum of all the nos entered before "
   ]
  },
  {
   "cell_type": "code",
   "execution_count": 7,
   "id": "6d42798e-d7a8-42e4-9aa0-ad3727208a3f",
   "metadata": {},
   "outputs": [
    {
     "name": "stdin",
     "output_type": "stream",
     "text": [
      "ENTER A NUMBER TO BE ADDED \n",
      " ENTER '0' TO PRINT THE SUM 5\n",
      "ENTER A NUMBER TO BE ADDED \n",
      " ENTER '0' TO PRINT THE SUM 6\n",
      "ENTER A NUMBER TO BE ADDED \n",
      " ENTER '0' TO PRINT THE SUM 7\n",
      "ENTER A NUMBER TO BE ADDED \n",
      " ENTER '0' TO PRINT THE SUM 0\n"
     ]
    },
    {
     "name": "stdout",
     "output_type": "stream",
     "text": [
      "18\n"
     ]
    }
   ],
   "source": [
    "\n",
    "sum = 0\n",
    "while True:\n",
    "    UserInt = int(input(\"ENTER A NUMBER TO BE ADDED \\n ENTER '0' TO PRINT THE SUM\"))\n",
    "    if (UserInt == 0):\n",
    "        print(sum)\n",
    "        break \n",
    "    else :\n",
    "        sum = sum+UserInt\n",
    "        "
   ]
  },
  {
   "cell_type": "markdown",
   "id": "6ccc76d5-7475-415e-964a-6fabd2337fd0",
   "metadata": {},
   "source": [
    "# Modify the previous code so that if the user inputs a negative integer , your program should ignore it "
   ]
  },
  {
   "cell_type": "code",
   "execution_count": 8,
   "id": "c4c2d53b-e168-4498-ba40-eece7a508e34",
   "metadata": {},
   "outputs": [
    {
     "name": "stdin",
     "output_type": "stream",
     "text": [
      "ENTER A NUMBER TO BE ADDED \n",
      " ENTER '0' TO PRINT THE SUM 5\n",
      "ENTER A NUMBER TO BE ADDED \n",
      " ENTER '0' TO PRINT THE SUM 6\n",
      "ENTER A NUMBER TO BE ADDED \n",
      " ENTER '0' TO PRINT THE SUM 9\n",
      "ENTER A NUMBER TO BE ADDED \n",
      " ENTER '0' TO PRINT THE SUM -5\n",
      "ENTER A NUMBER TO BE ADDED \n",
      " ENTER '0' TO PRINT THE SUM 0\n"
     ]
    },
    {
     "name": "stdout",
     "output_type": "stream",
     "text": [
      "20\n"
     ]
    }
   ],
   "source": [
    "sum = 0\n",
    "while True:\n",
    "    UserInt = int(input(\"ENTER A NUMBER TO BE ADDED \\n ENTER '0' TO PRINT THE SUM\"))\n",
    "    if (UserInt == 0):\n",
    "        print(sum)\n",
    "        break \n",
    "    elif (UserInt < 0):\n",
    "        continue\n",
    "    else :\n",
    "        sum = sum+UserInt\n",
    "        "
   ]
  },
  {
   "cell_type": "markdown",
   "id": "74bffb3d-a28f-4a50-9a09-792bcaa2f623",
   "metadata": {},
   "source": [
    "# Write a program to accept an integer from the user and display the sum of all the numbers from 1 to that number."
   ]
  },
  {
   "cell_type": "code",
   "execution_count": 3,
   "id": "99cca81e-fa72-465d-a67e-7b7f432bc3b1",
   "metadata": {},
   "outputs": [
    {
     "name": "stdin",
     "output_type": "stream",
     "text": [
      " Enter a number  5\n"
     ]
    },
    {
     "name": "stdout",
     "output_type": "stream",
     "text": [
      "15\n"
     ]
    }
   ],
   "source": [
    "num1 = int(input(\" Enter a number \"))\n",
    "sum1 = 0\n",
    "for i in range(num1+1):\n",
    "    sum1 =sum1+i\n",
    "print(sum1)\n",
    "\n"
   ]
  },
  {
   "cell_type": "markdown",
   "id": "ba64a36f-1be4-419e-a75c-1ba221c287fc",
   "metadata": {},
   "source": [
    "# Write a program to accept an integer from the user and calculate its factorial"
   ]
  },
  {
   "cell_type": "code",
   "execution_count": 8,
   "id": "1c5f41dc-66c7-4a64-9c90-6abc8dd235e7",
   "metadata": {},
   "outputs": [
    {
     "name": "stdin",
     "output_type": "stream",
     "text": [
      "enter the number  6\n"
     ]
    },
    {
     "name": "stdout",
     "output_type": "stream",
     "text": [
      "720\n"
     ]
    }
   ],
   "source": [
    "Num = int(input(\"enter the number \"))\n",
    "fact =1\n",
    "for i in range(Num,1,-1):\n",
    "    fact = fact*i\n",
    "    \n",
    "print(fact)"
   ]
  },
  {
   "cell_type": "markdown",
   "id": "be2ed455-4fb0-403d-a6c4-af45657eaffc",
   "metadata": {},
   "source": [
    "# Write a program to print the following pattern 1"
   ]
  },
  {
   "cell_type": "code",
   "execution_count": 11,
   "id": "6c570ef1-ddc4-4ced-80d4-09c65ab19ce8",
   "metadata": {},
   "outputs": [
    {
     "name": "stdin",
     "output_type": "stream",
     "text": [
      " enter rows and colums 4 4\n"
     ]
    },
    {
     "name": "stdout",
     "output_type": "stream",
     "text": [
      "* * * * \n",
      "* * * * \n",
      "* * * * \n",
      "* * * * \n"
     ]
    }
   ],
   "source": [
    "rows,cols = input(\" enter rows and colums\").split()\n",
    "rows = int(rows)\n",
    "cols = int(cols)\n",
    "\n",
    "for i in range(rows):\n",
    "    for j in range(cols):\n",
    "        print(\"*\", end = ' ')\n",
    "    print()"
   ]
  },
  {
   "cell_type": "markdown",
   "id": "f27fc8e5-ff1e-4778-9417-361eddd2bed6",
   "metadata": {},
   "source": [
    "# Write a program to print the following pattern 2"
   ]
  },
  {
   "cell_type": "code",
   "execution_count": 13,
   "id": "41bf6efa-838b-4c70-8850-d5756510cf48",
   "metadata": {},
   "outputs": [
    {
     "name": "stdin",
     "output_type": "stream",
     "text": [
      " enter rows  4\n"
     ]
    },
    {
     "name": "stdout",
     "output_type": "stream",
     "text": [
      "* \n",
      "* * \n",
      "* * * \n",
      "* * * * \n"
     ]
    }
   ],
   "source": [
    "rows2= input(\" enter rows \")\n",
    "rows2 = int(rows2)\n",
    "\n",
    "\n",
    "for i in range(rows2):\n",
    "    for j in range(i+1):\n",
    "        print(\"*\", end = ' ')\n",
    "    print()"
   ]
  },
  {
   "cell_type": "markdown",
   "id": "e0795a82-53ec-4bbc-be5b-7999593c38e9",
   "metadata": {},
   "source": [
    "# Write a program to print the following pattern 3"
   ]
  },
  {
   "cell_type": "code",
   "execution_count": 16,
   "id": "2ff33701-2dec-454d-90bb-b74402d9ab9b",
   "metadata": {},
   "outputs": [
    {
     "name": "stdin",
     "output_type": "stream",
     "text": [
      " enter rows  4\n"
     ]
    },
    {
     "name": "stdout",
     "output_type": "stream",
     "text": [
      "* * * * \n",
      "* * * \n",
      "* * \n",
      "* \n"
     ]
    }
   ],
   "source": [
    "rows3 = input(\" enter rows \")\n",
    "rows3 = int(rows3)\n",
    "\n",
    "\n",
    "for i in range(rows3):\n",
    "    for j in range(rows3 -i):\n",
    "        print(\"*\", end = ' ')\n",
    "    print()"
   ]
  },
  {
   "cell_type": "markdown",
   "id": "6eaea04d-541c-4229-adf6-6e4958b2e4df",
   "metadata": {},
   "source": [
    "# Write a program to accept an integer from the user and display all the numbers from 1 to that number. Repeat the process until the user enters 0."
   ]
  },
  {
   "cell_type": "code",
   "execution_count": null,
   "id": "22cd9b38-3370-4f77-ada8-e1d5b1b02282",
   "metadata": {},
   "outputs": [],
   "source": [
    "nat = int(input(\"Enter the number \"))\n",
    "while True:\n",
    "    sum = 0\n",
    "    for i in range(nat+1):\n",
    "        sum = sum+i\n",
    "    print(\"The sum is {}\".format()s)\n"
   ]
  }
 ],
 "metadata": {
  "kernelspec": {
   "display_name": "Python 3 (ipykernel)",
   "language": "python",
   "name": "python3"
  },
  "language_info": {
   "codemirror_mode": {
    "name": "ipython",
    "version": 3
   },
   "file_extension": ".py",
   "mimetype": "text/x-python",
   "name": "python",
   "nbconvert_exporter": "python",
   "pygments_lexer": "ipython3",
   "version": "3.10.6"
  }
 },
 "nbformat": 4,
 "nbformat_minor": 5
}
